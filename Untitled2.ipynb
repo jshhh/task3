{
  "metadata": {
    "language_info": {
      "codemirror_mode": {
        "name": "python",
        "version": 3
      },
      "file_extension": ".py",
      "mimetype": "text/x-python",
      "name": "python",
      "nbconvert_exporter": "python",
      "pygments_lexer": "ipython3",
      "version": "3.8"
    },
    "kernelspec": {
      "name": "python",
      "display_name": "Python (Pyodide)",
      "language": "python"
    }
  },
  "nbformat_minor": 4,
  "nbformat": 4,
  "cells": [
    {
      "cell_type": "code",
      "source": "str_numbers=input(\"введите вектор:\")\nnumbers = str_numbers.split(' ')\nmax_number=int(numbers[0])\nfor i in range(1,len(numbers)):\n    if int(numbers[i])>max_number:\n        max_number = int(numbers[i])\nprint(max_number)\n# 6 64 89 222 13 62 5",
      "metadata": {},
      "execution_count": null,
      "outputs": []
    }
  ]
}